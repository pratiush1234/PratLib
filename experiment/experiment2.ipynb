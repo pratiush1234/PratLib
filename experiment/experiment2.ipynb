{
 "cells": [
  {
   "cell_type": "code",
   "execution_count": 1,
   "id": "0c260dd9-895e-441c-ae91-645201afb021",
   "metadata": {},
   "outputs": [],
   "source": [
    "import pyspark"
   ]
  },
  {
   "cell_type": "code",
   "execution_count": 2,
   "id": "b450d110-f8c3-4763-b6e8-f7bb96c0f15f",
   "metadata": {},
   "outputs": [],
   "source": [
    "from pyspark.sql import SparkSession"
   ]
  },
  {
   "cell_type": "code",
   "execution_count": 3,
   "id": "6b4eb558-fbb1-4efc-aee0-83e639e9bb6b",
   "metadata": {},
   "outputs": [],
   "source": [
    "spark = SparkSession.builder.appName(\"Experiment\").getOrCreate()"
   ]
  },
  {
   "cell_type": "code",
   "execution_count": 4,
   "id": "fa4cb88b-f67f-4d9e-9838-97ac0b130037",
   "metadata": {},
   "outputs": [
    {
     "data": {
      "text/html": [
       "\n",
       "            <div>\n",
       "                <p><b>SparkSession - in-memory</b></p>\n",
       "                \n",
       "        <div>\n",
       "            <p><b>SparkContext</b></p>\n",
       "\n",
       "            <p><a href=\"http://localhost:4040\">Spark UI</a></p>\n",
       "\n",
       "            <dl>\n",
       "              <dt>Version</dt>\n",
       "                <dd><code>v3.5.1</code></dd>\n",
       "              <dt>Master</dt>\n",
       "                <dd><code>local[*]</code></dd>\n",
       "              <dt>AppName</dt>\n",
       "                <dd><code>Experiment</code></dd>\n",
       "            </dl>\n",
       "        </div>\n",
       "        \n",
       "            </div>\n",
       "        "
      ],
      "text/plain": [
       "<pyspark.sql.session.SparkSession at 0x18486382a10>"
      ]
     },
     "execution_count": 4,
     "metadata": {},
     "output_type": "execute_result"
    }
   ],
   "source": [
    "spark"
   ]
  },
  {
   "cell_type": "code",
   "execution_count": 5,
   "id": "147e3320-0694-4ead-87f2-e9a572135106",
   "metadata": {},
   "outputs": [],
   "source": [
    "data_path = \"C:\\\\Users\\\\Pratiush\\\\Desktop\\\\PratLib\\\\PratLib\\\\data\\\\sales_data.csv\"\n",
    "\n",
    "# Reading a CSV file into a DataFrame\n",
    "df = spark.read.csv(data_path, header=True, inferSchema=True)"
   ]
  },
  {
   "cell_type": "code",
   "execution_count": 6,
   "id": "9a0a8fed-67e9-4fab-ae02-8026948cef78",
   "metadata": {},
   "outputs": [
    {
     "name": "stdout",
     "output_type": "stream",
     "text": [
      "+-------+----------+------+-----+----------+-------------+--------------------------+--------------+------------------+------------------+------------------+--------+\n",
      "|User_ID|Product_ID|Gender|  Age|Occupation|City_Category|Stay_In_Current_City_Years|Marital_Status|Product_Category_1|Product_Category_2|Product_Category_3|Purchase|\n",
      "+-------+----------+------+-----+----------+-------------+--------------------------+--------------+------------------+------------------+------------------+--------+\n",
      "|1000001| P00069042|     F| 0-17|        10|            A|                         2|             0|                 3|              NULL|              NULL|    8370|\n",
      "|1000001| P00248942|     F| 0-17|        10|            A|                         2|             0|                 1|                 6|                14|   15200|\n",
      "|1000001| P00087842|     F| 0-17|        10|            A|                         2|             0|                12|              NULL|              NULL|    1422|\n",
      "|1000001| P00085442|     F| 0-17|        10|            A|                         2|             0|                12|                14|              NULL|    1057|\n",
      "|1000002| P00285442|     M|  55+|        16|            C|                        4+|             0|                 8|              NULL|              NULL|    7969|\n",
      "|1000003| P00193542|     M|26-35|        15|            A|                         3|             0|                 1|                 2|              NULL|   15227|\n",
      "|1000004| P00184942|     M|46-50|         7|            B|                         2|             1|                 1|                 8|                17|   19215|\n",
      "|1000004| P00346142|     M|46-50|         7|            B|                         2|             1|                 1|                15|              NULL|   15854|\n",
      "|1000004|  P0097242|     M|46-50|         7|            B|                         2|             1|                 1|                16|              NULL|   15686|\n",
      "|1000005| P00274942|     M|26-35|        20|            A|                         1|             1|                 8|              NULL|              NULL|    7871|\n",
      "|1000005| P00251242|     M|26-35|        20|            A|                         1|             1|                 5|                11|              NULL|    5254|\n",
      "|1000005| P00014542|     M|26-35|        20|            A|                         1|             1|                 8|              NULL|              NULL|    3957|\n",
      "|1000005| P00031342|     M|26-35|        20|            A|                         1|             1|                 8|              NULL|              NULL|    6073|\n",
      "|1000005| P00145042|     M|26-35|        20|            A|                         1|             1|                 1|                 2|                 5|   15665|\n",
      "|1000006| P00231342|     F|51-55|         9|            A|                         1|             0|                 5|                 8|                14|    5378|\n",
      "|1000006| P00190242|     F|51-55|         9|            A|                         1|             0|                 4|                 5|              NULL|    2079|\n",
      "|1000006|  P0096642|     F|51-55|         9|            A|                         1|             0|                 2|                 3|                 4|   13055|\n",
      "|1000006| P00058442|     F|51-55|         9|            A|                         1|             0|                 5|                14|              NULL|    8851|\n",
      "|1000007| P00036842|     M|36-45|         1|            B|                         1|             1|                 1|                14|                16|   11788|\n",
      "|1000008| P00249542|     M|26-35|        12|            C|                        4+|             1|                 1|                 5|                15|   19614|\n",
      "+-------+----------+------+-----+----------+-------------+--------------------------+--------------+------------------+------------------+------------------+--------+\n",
      "only showing top 20 rows\n",
      "\n"
     ]
    }
   ],
   "source": [
    "df.show()"
   ]
  },
  {
   "cell_type": "code",
   "execution_count": 105,
   "id": "2b690325-d7c0-4887-ae14-40ca4f4b7794",
   "metadata": {},
   "outputs": [],
   "source": [
    "from pyspark.ml.feature import OneHotEncoder as SparkOneHotEncoder\n",
    "from pyspark.sql.functions import when\n",
    "import warnings"
   ]
  },
  {
   "cell_type": "code",
   "execution_count": 116,
   "id": "21e51a2e-0f32-4e6c-9826-b49226e61da2",
   "metadata": {},
   "outputs": [],
   "source": [
    "class OneHotEncoder:\n",
    "    def __init__(self, **kwargs):\n",
    "        self.encoder = None\n",
    "        self.indexer = None\n",
    "        self.indexer_output_col = None\n",
    "        self.encoder_output_col = None\n",
    "\n",
    "    def fit(self, df, input_col):\n",
    "        self.indexer_output_col = f\"{input_col}_index\"\n",
    "        self.encoder_output_col = f\"{input_col}_encoded\"\n",
    "        \n",
    "        self.indexer = StringIndexer(inputCol=input_col, outputCol=self.indexer_output_col).fit(df)\n",
    "        indexed_df = self.indexer.transform(df)\n",
    "        \n",
    "        self.encoder = SparkOneHotEncoder(inputCol=self.indexer_output_col, outputCol=self.encoder_output_col).fit(indexed_df)\n",
    "        return self\n",
    "\n",
    "    def transform(self, df):\n",
    "        if not self.encoder or not self.indexer:\n",
    "            raise AttributeError(\"The encoder has not been fitted yet.\")\n",
    "        \n",
    "        indexed_df = self.indexer.transform(df)\n",
    "        new_df = self.encoder.transform(indexed_df)\n",
    "        new_df = new_df.drop(self.indexer_output_col)\n",
    "        return new_df\n",
    "\n",
    "class LabelEncoder:\n",
    "    def __init__(self, **kwargs):\n",
    "        self.indexer = StringIndexer(**kwargs)\n",
    "\n",
    "    def fit(self, df, input_col):\n",
    "        self.indexer.setInputCol(input_col).setOutputCol(f\"{input_col}_new\")\n",
    "        self.model = self.indexer.fit(df)\n",
    "        return self\n",
    "            \n",
    "    def transform(self, df):\n",
    "        return self.model.transform(df)\n",
    "\n",
    "class map:\n",
    "    def __init__(self):\n",
    "        pass\n",
    "    def mapper(self, df, column_name, dic):\n",
    "        for key, value in dic.items():\n",
    "            df = df.withColumn(\n",
    "                column_name,\n",
    "                when(df[column_name] == key, value).otherwise(df[column_name])\n",
    "            )\n",
    "        return df\n"
   ]
  },
  {
   "cell_type": "code",
   "execution_count": 117,
   "id": "62b5e0e7-8fb5-45cf-a4c7-902f6d52bfd5",
   "metadata": {},
   "outputs": [
    {
     "data": {
      "text/plain": [
       "<__main__.OneHotEncoder at 0x1848af43f10>"
      ]
     },
     "execution_count": 117,
     "metadata": {},
     "output_type": "execute_result"
    }
   ],
   "source": [
    "ohe = OneHotEncoder()\n",
    "ohe.fit(df,\"Age\")"
   ]
  },
  {
   "cell_type": "code",
   "execution_count": 118,
   "id": "5d21fea9-6f50-4a2b-aac3-ed663d19a92b",
   "metadata": {},
   "outputs": [],
   "source": [
    "# indexed_df.select('Age_new').distinct().collect()"
   ]
  },
  {
   "cell_type": "code",
   "execution_count": 119,
   "id": "22bc94d0-1179-41e7-b2d8-7fd1f7b0919b",
   "metadata": {},
   "outputs": [
    {
     "data": {
      "text/plain": [
       "DataFrame[User_ID: int, Product_ID: string, Gender: string, Age: string, Occupation: int, City_Category: string, Stay_In_Current_City_Years: string, Marital_Status: int, Product_Category_1: int, Product_Category_2: int, Product_Category_3: int, Purchase: int, Age_encoded: vector]"
      ]
     },
     "execution_count": 119,
     "metadata": {},
     "output_type": "execute_result"
    }
   ],
   "source": [
    "ohe.transform(df)"
   ]
  },
  {
   "cell_type": "code",
   "execution_count": 120,
   "id": "5808a9ad-2414-41e9-acfd-4f262d0851ee",
   "metadata": {},
   "outputs": [],
   "source": [
    "le = LabelEncoder()"
   ]
  },
  {
   "cell_type": "code",
   "execution_count": 121,
   "id": "94abbd4f-6f60-43b8-82b3-81fd6f1e54dc",
   "metadata": {},
   "outputs": [
    {
     "data": {
      "text/plain": [
       "<__main__.LabelEncoder at 0x1848ae783d0>"
      ]
     },
     "execution_count": 121,
     "metadata": {},
     "output_type": "execute_result"
    }
   ],
   "source": [
    "le.fit(df,\"Age\")"
   ]
  },
  {
   "cell_type": "code",
   "execution_count": 122,
   "id": "43532fd1-0b9f-48b1-b4fa-857279930169",
   "metadata": {},
   "outputs": [
    {
     "data": {
      "text/plain": [
       "DataFrame[User_ID: int, Product_ID: string, Gender: string, Age: string, Occupation: int, City_Category: string, Stay_In_Current_City_Years: string, Marital_Status: int, Product_Category_1: int, Product_Category_2: int, Product_Category_3: int, Purchase: int, Age_new: double]"
      ]
     },
     "execution_count": 122,
     "metadata": {},
     "output_type": "execute_result"
    }
   ],
   "source": [
    "le.transform(df)"
   ]
  },
  {
   "cell_type": "code",
   "execution_count": 123,
   "id": "8d849b2b-34c1-456b-beb2-ac994ec652bf",
   "metadata": {},
   "outputs": [],
   "source": [
    "map = Mapper()"
   ]
  },
  {
   "cell_type": "code",
   "execution_count": 124,
   "id": "9732ef5d-8fca-45f0-a9b1-eede85600d60",
   "metadata": {},
   "outputs": [
    {
     "ename": "TypeError",
     "evalue": "Mapper.map() missing 1 required positional argument: 'dic'",
     "output_type": "error",
     "traceback": [
      "\u001b[1;31m---------------------------------------------------------------------------\u001b[0m",
      "\u001b[1;31mTypeError\u001b[0m                                 Traceback (most recent call last)",
      "Cell \u001b[1;32mIn[124], line 1\u001b[0m\n\u001b[1;32m----> 1\u001b[0m df \u001b[38;5;241m=\u001b[39m Mapper\u001b[38;5;241m.\u001b[39mmap(df, \u001b[38;5;124m\"\u001b[39m\u001b[38;5;124mAge\u001b[39m\u001b[38;5;124m\"\u001b[39m, {\u001b[38;5;124m'\u001b[39m\u001b[38;5;124m0-17\u001b[39m\u001b[38;5;124m'\u001b[39m:\u001b[38;5;241m0\u001b[39m, \u001b[38;5;124m'\u001b[39m\u001b[38;5;124m18-25\u001b[39m\u001b[38;5;124m'\u001b[39m:\u001b[38;5;241m1\u001b[39m,\u001b[38;5;124m\"\u001b[39m\u001b[38;5;124m26-35\u001b[39m\u001b[38;5;124m\"\u001b[39m:\u001b[38;5;241m2\u001b[39m, \u001b[38;5;124m\"\u001b[39m\u001b[38;5;124m36-45\u001b[39m\u001b[38;5;124m\"\u001b[39m:\u001b[38;5;241m3\u001b[39m,\u001b[38;5;124m\"\u001b[39m\u001b[38;5;124m46-50\u001b[39m\u001b[38;5;124m\"\u001b[39m:\u001b[38;5;241m4\u001b[39m,\u001b[38;5;124m\"\u001b[39m\u001b[38;5;124m51-55\u001b[39m\u001b[38;5;124m\"\u001b[39m:\u001b[38;5;241m5\u001b[39m,\u001b[38;5;124m\"\u001b[39m\u001b[38;5;124m55+\u001b[39m\u001b[38;5;124m\"\u001b[39m:\u001b[38;5;241m6\u001b[39m})\n",
      "\u001b[1;31mTypeError\u001b[0m: Mapper.map() missing 1 required positional argument: 'dic'"
     ]
    }
   ],
   "source": [
    "df = Mapper.map(df, \"Age\", {'0-17':0, '18-25':1,\"26-35\":2, \"36-45\":3,\"46-50\":4,\"51-55\":5,\"55+\":6})"
   ]
  },
  {
   "cell_type": "code",
   "execution_count": 98,
   "id": "300e1590-aa47-4d86-9a56-28a5d81eaed3",
   "metadata": {},
   "outputs": [
    {
     "data": {
      "text/plain": [
       "[Row(Age='3'),\n",
       " Row(Age='0'),\n",
       " Row(Age='5'),\n",
       " Row(Age='6'),\n",
       " Row(Age='1'),\n",
       " Row(Age='4'),\n",
       " Row(Age='2')]"
      ]
     },
     "execution_count": 98,
     "metadata": {},
     "output_type": "execute_result"
    }
   ],
   "source": [
    "df.select(\"Age\").distinct().collect()"
   ]
  },
  {
   "cell_type": "code",
   "execution_count": 13,
   "id": "b2a40773-e1cb-40bb-9f3b-a3d7d61b4055",
   "metadata": {},
   "outputs": [
    {
     "data": {
      "text/plain": [
       "['User_ID',\n",
       " 'Product_ID',\n",
       " 'Gender',\n",
       " 'Age',\n",
       " 'Occupation',\n",
       " 'City_Category',\n",
       " 'Stay_In_Current_City_Years',\n",
       " 'Marital_Status',\n",
       " 'Product_Category_1',\n",
       " 'Product_Category_2',\n",
       " 'Product_Category_3',\n",
       " 'Purchase',\n",
       " 'Gender_new']"
      ]
     },
     "execution_count": 13,
     "metadata": {},
     "output_type": "execute_result"
    }
   ],
   "source": [
    "df.columns"
   ]
  },
  {
   "cell_type": "code",
   "execution_count": null,
   "id": "9a25f895-1090-4755-ac93-36f09d79835c",
   "metadata": {},
   "outputs": [],
   "source": []
  },
  {
   "cell_type": "code",
   "execution_count": null,
   "id": "c6571ea8-9cc7-4dc7-bb15-3b5572868be0",
   "metadata": {},
   "outputs": [],
   "source": []
  },
  {
   "cell_type": "code",
   "execution_count": null,
   "id": "a0d9c7fb-4062-4b28-979d-9145c6c429f0",
   "metadata": {},
   "outputs": [],
   "source": []
  },
  {
   "cell_type": "code",
   "execution_count": null,
   "id": "3cb0dd5c-03f8-4fc5-9a16-cf398d1ae320",
   "metadata": {},
   "outputs": [],
   "source": []
  }
 ],
 "metadata": {
  "kernelspec": {
   "display_name": "Python 3 (ipykernel)",
   "language": "python",
   "name": "python3"
  },
  "language_info": {
   "codemirror_mode": {
    "name": "ipython",
    "version": 3
   },
   "file_extension": ".py",
   "mimetype": "text/x-python",
   "name": "python",
   "nbconvert_exporter": "python",
   "pygments_lexer": "ipython3",
   "version": "3.11.7"
  }
 },
 "nbformat": 4,
 "nbformat_minor": 5
}
